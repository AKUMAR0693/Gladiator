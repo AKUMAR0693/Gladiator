{
 "cells": [
  {
   "cell_type": "markdown",
   "id": "c3b7c852",
   "metadata": {},
   "source": [
    "1. In the below elements which of them are values or an expression? eg:- values can be integer or string and expressions will be mathematical operators.\n",
    "\n",
    "*  = Expression\n",
    "'hello' = Values\n",
    "-87.8 = Values\n",
    "-  = Expression\n",
    "/ = Expression\n",
    "+ = Expression\n",
    "6 = values"
   ]
  },
  {
   "cell_type": "markdown",
   "id": "d4315f41",
   "metadata": {},
   "source": [
    "2. What is the difference between string and variable?\n",
    "\n",
    "String: - String are used in python to record text information. It’s actually a sequence which keeps track of every element in the string as a sequence. Where we are able to use python indexing and slicing to grab particular letters in a string. \n",
    "\n",
    "Whereas,\n",
    "\n",
    "Variable: - In python, variable is a letter or a reference name for any data set which is reserved as a memory to store values. For example :- we can store data set like strings, tuples, list or any data set in a variable name A.\n"
   ]
  },
  {
   "cell_type": "markdown",
   "id": "395ccb1b",
   "metadata": {},
   "source": [
    "3. Describe three different data types.\n",
    "\n",
    "Strings - String are used in python to record text information. It’s actually a sequence which keeps track of every element in the string as a sequence. Where we are able to use python indexing and slicing to grab particular letters in a string. Strings data in python should be kept in quotes “,,,” or ‘,,,’.\n",
    "\n",
    "Tuples - tuples are immutable meaning they cannot be changed. We can use tuples to present things that shouldn't be changed. Tuples data in python should be kept in curly brackets {,,,}.\n",
    "\n",
    "List - A list is a data structure in Python that is a mutable or changeable, ordered sequence of elements. Each element or value that is inside of a list is called an item. Just as strings are defined as characters between quotes ‘,,,’, lists are defined by having values between square brackets [ ].\n"
   ]
  },
  {
   "cell_type": "markdown",
   "id": "805bf54f",
   "metadata": {},
   "source": [
    "4. What is an expression made up of? What do all expressions do?\n",
    "\n",
    "An expression is a combination of operators e.g.: - +, -, *, ** etc. Variables, values and function that is interpreted to produce some other value. All expressions produce some other value.\n"
   ]
  },
  {
   "cell_type": "markdown",
   "id": "8f280532",
   "metadata": {},
   "source": [
    "5. This assignment statements, like spam = 10. What is the difference between an expression and a statement?\n",
    "\n",
    "Expression: - \n",
    "1) An expression evaluates to a value.\n",
    "2) The evaluation of a statement does not change state\n",
    "3) Evaluation of an expression always Produces or returns a result value.\n",
    "4) Every expression can’t be a statement.\n",
    "5) Example: - a + 16.\n",
    "\n",
    "Whereas,\n",
    "\n",
    "Statement:  - \n",
    "1) A statement executes something.\n",
    "2) The execution of a statement changes state\n",
    "3) Execution of a statement may or may not produces or displays a result value, it only does whatever the statement says.\n",
    "4) Every statement can be an expression.\n",
    "5) Example: - Spam = 10 is an assignment statement \n"
   ]
  },
  {
   "cell_type": "code",
   "execution_count": 4,
   "id": "5a9095b6",
   "metadata": {},
   "outputs": [],
   "source": [
    "## 6. After running the following code, what does the variable bacon contain?\n",
    "bacon = 22\n",
    "bacon + 1"
   ]
  },
  {
   "cell_type": "code",
   "execution_count": 7,
   "id": "9c9cc177",
   "metadata": {},
   "outputs": [
    {
     "data": {
      "text/plain": [
       "22"
      ]
     },
     "execution_count": 7,
     "metadata": {},
     "output_type": "execute_result"
    }
   ],
   "source": [
    "bacon"
   ]
  },
  {
   "cell_type": "code",
   "execution_count": 8,
   "id": "cc36f831",
   "metadata": {},
   "outputs": [
    {
     "data": {
      "text/plain": [
       "'spamspamspam'"
      ]
     },
     "execution_count": 8,
     "metadata": {},
     "output_type": "execute_result"
    }
   ],
   "source": [
    "##7. What should the values of the following two terms be?\n",
    "'spam' + 'spamspam'"
   ]
  },
  {
   "cell_type": "code",
   "execution_count": 9,
   "id": "9d9ac7eb",
   "metadata": {},
   "outputs": [
    {
     "data": {
      "text/plain": [
       "'spamspamspam'"
      ]
     },
     "execution_count": 9,
     "metadata": {},
     "output_type": "execute_result"
    }
   ],
   "source": [
    "'spam' * 3"
   ]
  },
  {
   "cell_type": "markdown",
   "id": "514e8354",
   "metadata": {},
   "source": [
    "8. Why is eggs a valid variable name while 100 is invalid?\n",
    "\n",
    "Variable name cannot begin with a number. We can begin with Alphabet for variable name.\n"
   ]
  },
  {
   "cell_type": "code",
   "execution_count": 14,
   "id": "7cbf9acc",
   "metadata": {},
   "outputs": [
    {
     "data": {
      "text/plain": [
       "int"
      ]
     },
     "execution_count": 14,
     "metadata": {},
     "output_type": "execute_result"
    }
   ],
   "source": [
    "## 9. What three functions can be used to get the integer, floating-point number, or string version of a value?\n",
    "int(1)\n",
    "type(int(1))"
   ]
  },
  {
   "cell_type": "code",
   "execution_count": 15,
   "id": "216d3ef8",
   "metadata": {},
   "outputs": [
    {
     "data": {
      "text/plain": [
       "float"
      ]
     },
     "execution_count": 15,
     "metadata": {},
     "output_type": "execute_result"
    }
   ],
   "source": [
    "float(2)\n",
    "type(float(2))"
   ]
  },
  {
   "cell_type": "code",
   "execution_count": 18,
   "id": "0c6e11dd",
   "metadata": {},
   "outputs": [
    {
     "data": {
      "text/plain": [
       "str"
      ]
     },
     "execution_count": 18,
     "metadata": {},
     "output_type": "execute_result"
    }
   ],
   "source": [
    "str('hello')\n",
    "type(str('hello'))"
   ]
  },
  {
   "cell_type": "code",
   "execution_count": 21,
   "id": "be399c9b",
   "metadata": {},
   "outputs": [
    {
     "data": {
      "text/plain": [
       "'I have eaten 99 burritos.'"
      ]
     },
     "execution_count": 21,
     "metadata": {},
     "output_type": "execute_result"
    }
   ],
   "source": [
    "## 10. Why does this expression cause an error? How can you fix it?\n",
    "## 'I have eaten ' + 99 + ' burritos.'\n",
    "\n",
    "## This expression causes an error because integer cannot be concatenated with strings. Strings together can be concatenated.\n",
    "\n",
    "##Correct way to fix this expression: -\n",
    "\n",
    "'I have eaten ' + '99' + ' burritos.'\n"
   ]
  }
 ],
 "metadata": {
  "kernelspec": {
   "display_name": "Python 3 (ipykernel)",
   "language": "python",
   "name": "python3"
  },
  "language_info": {
   "codemirror_mode": {
    "name": "ipython",
    "version": 3
   },
   "file_extension": ".py",
   "mimetype": "text/x-python",
   "name": "python",
   "nbconvert_exporter": "python",
   "pygments_lexer": "ipython3",
   "version": "3.9.7"
  }
 },
 "nbformat": 4,
 "nbformat_minor": 5
}
